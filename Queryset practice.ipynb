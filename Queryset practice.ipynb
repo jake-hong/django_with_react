{
 "cells": [
  {
   "cell_type": "code",
   "execution_count": 11,
   "id": "8c687589",
   "metadata": {},
   "outputs": [],
   "source": [
    "import os \n",
    "os.environ['DJANGO_SETTINGS_MODULE']='django_with_react.settings'\n",
    "os.environ['DJANGO_ALLOW_ASYNC_UNSAFE'] ='true'\n",
    "\n",
    "import django\n",
    "django.setup()"
   ]
  },
  {
   "cell_type": "code",
   "execution_count": null,
   "id": "9fe242f0",
   "metadata": {},
   "outputs": [],
   "source": []
  },
  {
   "cell_type": "code",
   "execution_count": 12,
   "id": "47e22dd3",
   "metadata": {},
   "outputs": [],
   "source": [
    "from insta.models import Post"
   ]
  },
  {
   "cell_type": "code",
   "execution_count": 18,
   "id": "2fc0c3a6",
   "metadata": {},
   "outputs": [
    {
     "name": "stdout",
     "output_type": "stream",
     "text": [
      "SELECT \"insta_post\".\"id\", \"insta_post\".\"message\", \"insta_post\".\"photo\", \"insta_post\".\"is_public\", \"insta_post\".\"created_at\", \"insta_post\".\"updated_at\" FROM \"insta_post\"\n"
     ]
    }
   ],
   "source": [
    "qs =Post.objects.all()\n",
    "print(qs.query)"
   ]
  },
  {
   "cell_type": "code",
   "execution_count": 16,
   "id": "8ce46475",
   "metadata": {},
   "outputs": [
    {
     "data": {
      "text/plain": [
       "<QuerySet [<Post: hello world>, <Post: 안녕하세요>, <Post: 봉쥬르>]>"
      ]
     },
     "execution_count": 16,
     "metadata": {},
     "output_type": "execute_result"
    }
   ],
   "source": [
    "Post.objects.all()"
   ]
  },
  {
   "cell_type": "code",
   "execution_count": 25,
   "id": "2a8debce",
   "metadata": {},
   "outputs": [
    {
     "name": "stdout",
     "output_type": "stream",
     "text": [
      "SELECT \"insta_post\".\"id\", \"insta_post\".\"message\", \"insta_post\".\"photo\", \"insta_post\".\"is_public\", \"insta_post\".\"created_at\", \"insta_post\".\"updated_at\" FROM \"insta_post\" ORDER BY \"insta_post\".\"id\" DESC\n"
     ]
    },
    {
     "data": {
      "text/plain": [
       "<QuerySet [<Post: 니하오>, <Post: 봉쥬르>, <Post: 안녕하세요>, <Post: hello world>]>"
      ]
     },
     "execution_count": 25,
     "metadata": {},
     "output_type": "execute_result"
    }
   ],
   "source": [
    "qs =Post.objects.all().order_by('-id')\n",
    "print(qs.query)\n",
    "qs"
   ]
  },
  {
   "cell_type": "code",
   "execution_count": 31,
   "id": "bf72dee8",
   "metadata": {},
   "outputs": [
    {
     "name": "stdout",
     "output_type": "stream",
     "text": [
      "니하오 2021-12-23 11:42:57.728441+00:00\n",
      "id:4,message:니하오2021-12-23 11:42:57.728441+00:00\n",
      "봉쥬르 2021-12-23 10:26:14.589378+00:00\n",
      "id:3,message:봉쥬르2021-12-23 10:26:14.589378+00:00\n",
      "안녕하세요 2021-12-23 10:26:04.824903+00:00\n",
      "id:2,message:안녕하세요2021-12-23 10:26:04.824903+00:00\n",
      "hello world 2021-12-23 10:25:49.027160+00:00\n",
      "id:1,message:hello world2021-12-23 10:25:49.027160+00:00\n"
     ]
    }
   ],
   "source": [
    "for post in qs:\n",
    "    print(post.message, post.created_at)\n",
    "    print(\"id:{id},message:{message}{created_at}\".format(**post.__dict__))"
   ]
  },
  {
   "cell_type": "code",
   "execution_count": 33,
   "id": "4a1f92d8",
   "metadata": {},
   "outputs": [
    {
     "name": "stdout",
     "output_type": "stream",
     "text": [
      "<QuerySet [<Post: 안녕하세요>]>\n"
     ]
    }
   ],
   "source": [
    "qs =Post.objects.all().filter(message__startswith='안녕')\n",
    "print(qs)"
   ]
  },
  {
   "cell_type": "code",
   "execution_count": 34,
   "id": "cc2cf28d",
   "metadata": {},
   "outputs": [
    {
     "name": "stdout",
     "output_type": "stream",
     "text": [
      "<QuerySet [<Post: 봉쥬르>]>\n"
     ]
    }
   ],
   "source": [
    "qs =Post.objects.all().filter(message__icontains='봉')\n",
    "print(qs)\n"
   ]
  },
  {
   "cell_type": "code",
   "execution_count": 45,
   "id": "0f22ea3e",
   "metadata": {},
   "outputs": [
    {
     "ename": "MultipleObjectsReturned",
     "evalue": "get() returned more than one Post -- it returned 3!",
     "output_type": "error",
     "traceback": [
      "\u001b[0;31m---------------------------------------------------------------------------\u001b[0m",
      "\u001b[0;31mMultipleObjectsReturned\u001b[0m                   Traceback (most recent call last)",
      "\u001b[0;32m/var/folders/5t/6gk39nps1xv2cygwgj2lq8rm0000gn/T/ipykernel_1666/3575035929.py\u001b[0m in \u001b[0;36m<module>\u001b[0;34m\u001b[0m\n\u001b[1;32m      1\u001b[0m \u001b[0mqs\u001b[0m \u001b[0;34m=\u001b[0m \u001b[0mPost\u001b[0m\u001b[0;34m.\u001b[0m\u001b[0mobjects\u001b[0m\u001b[0;34m.\u001b[0m\u001b[0mall\u001b[0m\u001b[0;34m(\u001b[0m\u001b[0;34m)\u001b[0m\u001b[0;34m\u001b[0m\u001b[0;34m\u001b[0m\u001b[0m\n\u001b[0;32m----> 2\u001b[0;31m \u001b[0mqs\u001b[0m\u001b[0;34m.\u001b[0m\u001b[0mget\u001b[0m\u001b[0;34m(\u001b[0m\u001b[0mid__lte\u001b[0m\u001b[0;34m=\u001b[0m\u001b[0;36m3\u001b[0m\u001b[0;34m)\u001b[0m\u001b[0;34m\u001b[0m\u001b[0;34m\u001b[0m\u001b[0m\n\u001b[0m",
      "\u001b[0;32m~/miniconda3/envs/django_with_react/lib/python3.8/site-packages/django/db/models/query.py\u001b[0m in \u001b[0;36mget\u001b[0;34m(self, *args, **kwargs)\u001b[0m\n\u001b[1;32m    441\u001b[0m                 \u001b[0mself\u001b[0m\u001b[0;34m.\u001b[0m\u001b[0mmodel\u001b[0m\u001b[0;34m.\u001b[0m\u001b[0m_meta\u001b[0m\u001b[0;34m.\u001b[0m\u001b[0mobject_name\u001b[0m\u001b[0;34m\u001b[0m\u001b[0;34m\u001b[0m\u001b[0m\n\u001b[1;32m    442\u001b[0m             )\n\u001b[0;32m--> 443\u001b[0;31m         raise self.model.MultipleObjectsReturned(\n\u001b[0m\u001b[1;32m    444\u001b[0m             'get() returned more than one %s -- it returned %s!' % (\n\u001b[1;32m    445\u001b[0m                 \u001b[0mself\u001b[0m\u001b[0;34m.\u001b[0m\u001b[0mmodel\u001b[0m\u001b[0;34m.\u001b[0m\u001b[0m_meta\u001b[0m\u001b[0;34m.\u001b[0m\u001b[0mobject_name\u001b[0m\u001b[0;34m,\u001b[0m\u001b[0;34m\u001b[0m\u001b[0;34m\u001b[0m\u001b[0m\n",
      "\u001b[0;31mMultipleObjectsReturned\u001b[0m: get() returned more than one Post -- it returned 3!"
     ]
    }
   ],
   "source": [
    "qs = Post.objects.all()\n",
    "qs.get(id__lte=3)"
   ]
  },
  {
   "cell_type": "code",
   "execution_count": 46,
   "id": "9ad4bd72",
   "metadata": {},
   "outputs": [
    {
     "data": {
      "text/plain": [
       "<Post: hello world>"
      ]
     },
     "execution_count": 46,
     "metadata": {},
     "output_type": "execute_result"
    }
   ],
   "source": [
    "qs.first()\n"
   ]
  },
  {
   "cell_type": "code",
   "execution_count": 47,
   "id": "ea344854",
   "metadata": {},
   "outputs": [
    {
     "data": {
      "text/plain": [
       "<Post: 니하오>"
      ]
     },
     "execution_count": 47,
     "metadata": {},
     "output_type": "execute_result"
    }
   ],
   "source": [
    "qs.last()"
   ]
  },
  {
   "cell_type": "code",
   "execution_count": 49,
   "id": "d3ffd42f",
   "metadata": {},
   "outputs": [
    {
     "name": "stdout",
     "output_type": "stream",
     "text": [
      "None\n"
     ]
    }
   ],
   "source": [
    "print(qs.none().first())"
   ]
  },
  {
   "cell_type": "code",
   "execution_count": 50,
   "id": "89618928",
   "metadata": {},
   "outputs": [],
   "source": [
    "# filter 와 exclude는 반대"
   ]
  },
  {
   "cell_type": "code",
   "execution_count": 54,
   "id": "d6d0cccf",
   "metadata": {},
   "outputs": [],
   "source": [
    "from django.db.models import Q "
   ]
  },
  {
   "cell_type": "code",
   "execution_count": 57,
   "id": "a74cb9f9",
   "metadata": {},
   "outputs": [
    {
     "name": "stdout",
     "output_type": "stream",
     "text": [
      "SELECT \"insta_post\".\"id\", \"insta_post\".\"message\", \"insta_post\".\"photo\", \"insta_post\".\"is_public\", \"insta_post\".\"created_at\", \"insta_post\".\"updated_at\" FROM \"insta_post\" WHERE (\"insta_post\".\"id\" >= 2 OR \"insta_post\".\"message\" LIKE %봉쥬르% ESCAPE '\\')\n"
     ]
    }
   ],
   "source": [
    "query = '봉쥬르'\n",
    "qs = Post.objects.all()\n",
    "#qs = qs.filter(id__gte=2,message__icontains=query)\n",
    "cond = Q(id__gte=2)| Q(message__contains=query)\n",
    "#cond &= Q(...)\n",
    "\n",
    "qs = qs.filter(cond)\n",
    "print(qs.query)"
   ]
  },
  {
   "cell_type": "code",
   "execution_count": null,
   "id": "2ebe86ad",
   "metadata": {},
   "outputs": [],
   "source": []
  }
 ],
 "metadata": {
  "kernelspec": {
   "display_name": "Python 3 (ipykernel)",
   "language": "python",
   "name": "python3"
  },
  "language_info": {
   "codemirror_mode": {
    "name": "ipython",
    "version": 3
   },
   "file_extension": ".py",
   "mimetype": "text/x-python",
   "name": "python",
   "nbconvert_exporter": "python",
   "pygments_lexer": "ipython3",
   "version": "3.8.12"
  }
 },
 "nbformat": 4,
 "nbformat_minor": 5
}
